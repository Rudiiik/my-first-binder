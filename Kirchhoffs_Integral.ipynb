{
 "cells": [
  {
   "cell_type": "code",
   "execution_count": 1,
   "metadata": {},
   "outputs": [],
   "source": [
    "import numpy as np\n"
   ]
  },
  {
   "cell_type": "code",
   "execution_count": 12,
   "metadata": {},
   "outputs": [],
   "source": [
    "#геометрия поверхности и ее дискретизация\n",
    "N = 10\n",
    "M = N\n",
    "Lx = 0.001\n",
    "hx = Lx/N\n",
    "Ly = Lx\n",
    "hy = hx\n",
    "\n",
    "h = hx\n",
    "L = Lx\n",
    "\n",
    "E = np.zeros((N,M)) #массив полей в точке поверхности\n",
    "k = np.zeros((N,M)) #массив вв\n",
    "Ex = np.zeros((N,M)) #массив производных по (x,y,z)\n",
    "Ey = np.zeros((N,M))\n",
    "Ez = np.zeros((N,M))"
   ]
  },
  {
   "cell_type": "code",
   "execution_count": null,
   "metadata": {},
   "outputs": [],
   "source": [
    "#определяешь поверхность Z(x,y) -> Z(i,j)\n",
    "Z = np.zeros((N,M))\n",
    "\n",
    "\n"
   ]
  },
  {
   "cell_type": "code",
   "execution_count": 5,
   "metadata": {},
   "outputs": [],
   "source": [
    "#функция ГП\n",
    "def E_g(x, y, z):\n",
    "    \n",
    "    return 1\n",
    "#фунгкции производных ГП (из вольфрама)\n",
    "def dE_gx(x, y, z):\n",
    "    \n",
    "    return 1\n",
    "def dE_gy(x, y, z):\n",
    "    \n",
    "    return 1\n",
    "def dE_gz(x, y, z):\n",
    "    \n",
    "    return 1\n",
    "#функция рассчета ВВ\n",
    "def K(x, y, z):\n",
    "    \n",
    "    return 1\n",
    "\n"
   ]
  },
  {
   "cell_type": "code",
   "execution_count": 17,
   "metadata": {},
   "outputs": [],
   "source": [
    "#рассчет истинных координат\n",
    "coord_array = np.zeros((N,M), dtype='float,float, float')\n",
    "for i in range(0, N):\n",
    "    for j in range(0, M):\n",
    "        coord_array[i,j][0] = i*h\n",
    "        coord_array[i,j][1] = j*h\n",
    "        coord_array[i,j][2] = Z[i,j]"
   ]
  },
  {
   "cell_type": "code",
   "execution_count": null,
   "metadata": {},
   "outputs": [],
   "source": [
    "def N(i,j)"
   ]
  },
  {
   "cell_type": "code",
   "execution_count": 20,
   "metadata": {},
   "outputs": [],
   "source": [
    "#рассчеты неизменяемых массивов\n",
    "for i in range(0, N):\n",
    "    for j in range(0, M):\n",
    "        E[i,j] = E_g(coord_array[i,j][0],coord_array[i,j][1],coord_array[i,j][2])\n",
    "        Ex[i,j] = dE_gx(coord_array[i,j][0],coord_array[i,j][1],coord_array[i,j][2])\n",
    "        Ey[i,j] = dE_gy(coord_array[i,j][0],coord_array[i,j][1],coord_array[i,j][2])\n",
    "        Ez[i,j] = dE_gz(coord_array[i,j][0],coord_array[i,j][1],coord_array[i,j][2])\n",
    "        k[i,j] = K(coord_array[i,j][0],coord_array[i,j][1],coord_array[i,j][2])\n",
    "        n = N(i, j)\n",
    "        E_n = En(n)"
   ]
  },
  {
   "cell_type": "code",
   "execution_count": 23,
   "metadata": {},
   "outputs": [
    {
     "data": {
      "text/plain": [
       "array([[0., 0., 0., 0., 0., 0., 0., 0., 0., 0.],\n",
       "       [0., 0., 0., 0., 0., 0., 0., 0., 0., 0.],\n",
       "       [0., 0., 0., 0., 0., 0., 0., 0., 0., 0.],\n",
       "       [0., 0., 0., 0., 0., 0., 0., 0., 0., 0.],\n",
       "       [0., 0., 0., 0., 0., 0., 0., 0., 0., 0.],\n",
       "       [0., 0., 0., 0., 0., 0., 0., 0., 0., 0.],\n",
       "       [0., 0., 0., 0., 0., 0., 0., 0., 0., 0.],\n",
       "       [0., 0., 0., 0., 0., 0., 0., 0., 0., 0.],\n",
       "       [0., 0., 0., 0., 0., 0., 0., 0., 0., 0.],\n",
       "       [0., 0., 0., 0., 0., 0., 0., 0., 0., 0.]])"
      ]
     },
     "execution_count": 23,
     "metadata": {},
     "output_type": "execute_result"
    }
   ],
   "source": [
    "E_n = np.zeros((N,M))\n",
    "for i in range(0, N-1):\n",
    "    for j in range(0, M-1):"
   ]
  },
  {
   "cell_type": "code",
   "execution_count": 24,
   "metadata": {},
   "outputs": [
    {
     "ename": "NameError",
     "evalue": "name 'n' is not defined",
     "output_type": "error",
     "traceback": [
      "\u001b[0;31m---------------------------------------------------------------------------\u001b[0m",
      "\u001b[0;31mNameError\u001b[0m                                 Traceback (most recent call last)",
      "\u001b[0;32m<ipython-input-24-05324d0c5f20>\u001b[0m in \u001b[0;36m<module>\u001b[0;34m\u001b[0m\n\u001b[0;32m----> 1\u001b[0;31m \u001b[0mn\u001b[0m\u001b[0;34m\u001b[0m\u001b[0;34m\u001b[0m\u001b[0m\n\u001b[0m\u001b[1;32m      2\u001b[0m \u001b[0mm\u001b[0m\u001b[0;34m\u001b[0m\u001b[0;34m\u001b[0m\u001b[0m\n\u001b[1;32m      3\u001b[0m \u001b[0mhnx\u001b[0m\u001b[0;34m\u001b[0m\u001b[0;34m\u001b[0m\u001b[0m\n\u001b[1;32m      4\u001b[0m \u001b[0mhny\u001b[0m\u001b[0;34m\u001b[0m\u001b[0;34m\u001b[0m\u001b[0m\n\u001b[1;32m      5\u001b[0m \u001b[0mlx\u001b[0m\u001b[0;34m\u001b[0m\u001b[0;34m\u001b[0m\u001b[0m\n",
      "\u001b[0;31mNameError\u001b[0m: name 'n' is not defined"
     ]
    }
   ],
   "source": [
    "#задаешь рассчетные точки\n",
    "n\n",
    "m\n",
    "hnx\n",
    "hny\n",
    "lx\n",
    "ly\n",
    "cal_ar\n",
    "\n",
    "\n",
    "#функция рассчета косинуса м нормалью и направлением\n",
    "def cos_a(x,y,z):\n",
    "    return ar"
   ]
  },
  {
   "cell_type": "code",
   "execution_count": 25,
   "metadata": {},
   "outputs": [],
   "source": [
    "#рассчет ИК для 1й рассчетной точки \n",
    "def KI(E, E_n, coord, r_ar, R_ar, k, S):\n",
    "    r_ar\n",
    "    R_ar = 1./r_ar\n",
    "    cos = cor_a(coord)\n",
    "    res = np.sum(1/4*pi*((np.i * k + R_ar)*E*cos-E_n)*np.exp(-np.i*k*r_ar)*R_ar*S)\n",
    "    return res"
   ]
  },
  {
   "cell_type": "code",
   "execution_count": null,
   "metadata": {},
   "outputs": [],
   "source": []
  }
 ],
 "metadata": {
  "kernelspec": {
   "display_name": "Python 3",
   "language": "python",
   "name": "python3"
  },
  "language_info": {
   "codemirror_mode": {
    "name": "ipython",
    "version": 3
   },
   "file_extension": ".py",
   "mimetype": "text/x-python",
   "name": "python",
   "nbconvert_exporter": "python",
   "pygments_lexer": "ipython3",
   "version": "3.8.3"
  }
 },
 "nbformat": 4,
 "nbformat_minor": 4
}
